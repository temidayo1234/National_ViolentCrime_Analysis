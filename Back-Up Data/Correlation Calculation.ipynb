{
 "cells": [
  {
   "cell_type": "code",
   "execution_count": 1,
   "metadata": {},
   "outputs": [],
   "source": [
    "# Dependencies\n",
    "import matplotlib.pyplot as plt\n",
    "import numpy as np\n",
    "import pandas as pd\n",
    "import scipy.stats as st"
   ]
  },
  {
   "cell_type": "code",
   "execution_count": 2,
   "metadata": {},
   "outputs": [
    {
     "name": "stdout",
     "output_type": "stream",
     "text": [
      "The correlation between income and violent crime rate for the lowest crime cities is -0.21\n"
     ]
    }
   ],
   "source": [
    "# Read Low Crime Income Level csv into a new dataframe\n",
    "lowcrime_income_df = pd.read_csv('lowincomecrime.csv')\n",
    "# The next example will compute the Pearson correlation coefficient between \"Income per Capita\" and \"Average Alcohol Consumed\"\n",
    "income = lowcrime_income_df.iloc[:,2]\n",
    "violentcrimerate = lowcrime_income_df.iloc[:,1]\n",
    "correlation = st.pearsonr(income,violentcrimerate)\n",
    "print(f\"The correlation between income and violent crime rate for the lowest crime cities is {round(correlation[0],2)}\")\n"
   ]
  },
  {
   "cell_type": "code",
   "execution_count": 3,
   "metadata": {},
   "outputs": [
    {
     "name": "stdout",
     "output_type": "stream",
     "text": [
      "The correlation between income and violent crime rate for the highest crime cities is -0.53\n"
     ]
    }
   ],
   "source": [
    "# Read High Crime Income Level csv into a new dataframe\n",
    "highcrime_income_df = pd.read_csv('highincomecrime.csv')\n",
    "income = highcrime_income_df.iloc[:,2]\n",
    "violentcrimerate = highcrime_income_df.iloc[:,1]\n",
    "correlation = st.pearsonr(income,violentcrimerate)\n",
    "print(f\"The correlation between income and violent crime rate for the highest crime cities is {round(correlation[0],2)}\")\n"
   ]
  },
  {
   "cell_type": "code",
   "execution_count": 4,
   "metadata": {},
   "outputs": [
    {
     "name": "stdout",
     "output_type": "stream",
     "text": [
      "The correlation between population and violent crime rate for the lowest crime cities is -0.3\n"
     ]
    }
   ],
   "source": [
    "lowcrime_population_df = pd.read_csv('lowtotalpopulation.csv')\n",
    "population = lowcrime_population_df.iloc[:,2]\n",
    "violentcrimerate = lowcrime_population_df.iloc[:,1]\n",
    "correlation = st.pearsonr(population,violentcrimerate)\n",
    "print(f\"The correlation between population and violent crime rate for the lowest crime cities is {round(correlation[0],2)}\")\n"
   ]
  },
  {
   "cell_type": "code",
   "execution_count": 19,
   "metadata": {},
   "outputs": [
    {
     "name": "stdout",
     "output_type": "stream",
     "text": [
      "The correlation between population and violent crime rate for the highest crime cities is -0.09\n"
     ]
    }
   ],
   "source": [
    "highcrime_population_df = pd.read_csv('hightotalpopulation.csv')\n",
    "population = highcrime_population_df.iloc[:,2]\n",
    "violentcrimerate = highcrime_population_df.iloc[:,1]\n",
    "correlation = st.pearsonr(population,violentcrimerate)\n",
    "print(f\"The correlation between population and violent crime rate for the highest crime cities is {round(correlation[0],2)}\")\n"
   ]
  },
  {
   "cell_type": "code",
   "execution_count": 21,
   "metadata": {},
   "outputs": [
    {
     "name": "stdout",
     "output_type": "stream",
     "text": [
      "The correlation between unemployment and violent crime rate for the lowest crime cities is 0.03\n"
     ]
    }
   ],
   "source": [
    "lowcrime_unemployment_df = pd.read_csv('lowunemploymentcrime.csv')\n",
    "unemployment = lowcrime_unemployment_df.iloc[:,2]\n",
    "violentcrimerate = lowcrime_unemployment_df.iloc[:,1]\n",
    "correlation = st.pearsonr(unemployment,violentcrimerate)\n",
    "print(f\"The correlation between unemployment and violent crime rate for the lowest crime cities is {round(correlation[0],2)}\")"
   ]
  },
  {
   "cell_type": "code",
   "execution_count": 22,
   "metadata": {},
   "outputs": [
    {
     "name": "stdout",
     "output_type": "stream",
     "text": [
      "The correlation between unemployment and violent crime rate for the highest crime cities is -0.02\n"
     ]
    }
   ],
   "source": [
    "highcrime_unemployment_df = pd.read_csv('highunemploymentcrime.csv')\n",
    "unemployment = highcrime_unemployment_df.iloc[:,2]\n",
    "violentcrimerate = highcrime_unemployment_df.iloc[:,1]\n",
    "correlation = st.pearsonr(unemployment,violentcrimerate)\n",
    "print(f\"The correlation between unemployment and violent crime rate for the highest crime cities is {round(correlation[0],2)}\")"
   ]
  },
  {
   "cell_type": "code",
   "execution_count": null,
   "metadata": {},
   "outputs": [],
   "source": []
  }
 ],
 "metadata": {
  "kernelspec": {
   "display_name": "Python 3",
   "language": "python",
   "name": "python3"
  },
  "language_info": {
   "codemirror_mode": {
    "name": "ipython",
    "version": 3
   },
   "file_extension": ".py",
   "mimetype": "text/x-python",
   "name": "python",
   "nbconvert_exporter": "python",
   "pygments_lexer": "ipython3",
   "version": "3.7.6"
  }
 },
 "nbformat": 4,
 "nbformat_minor": 4
}
