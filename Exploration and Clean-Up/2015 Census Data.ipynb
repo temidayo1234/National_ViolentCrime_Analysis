{
 "cells": [
  {
   "cell_type": "code",
   "execution_count": 1,
   "metadata": {},
   "outputs": [],
   "source": [
    "# Dependencies\n",
    "from matplotlib import pyplot as plt\n",
    "from scipy.stats import linregress\n",
    "import numpy as np\n",
    "from sklearn import datasets \n",
    "import pandas as pd\n",
    "import time\n",
    "import requests\n",
    "from census import Census\n",
    "pd.set_option('display.max_rows', 30000)\n",
    "# Census API Key\n",
    "from config import census_key\n",
    "c = Census(census_key, year=2015)\n",
    "import warnings\n",
    "warnings.filterwarnings('ignore')"
   ]
  },
  {
   "cell_type": "markdown",
   "metadata": {},
   "source": [
    "### Retrieve demographics data from census.gov"
   ]
  },
  {
   "cell_type": "code",
   "execution_count": 2,
   "metadata": {},
   "outputs": [],
   "source": [
    "#Education\n",
    "education_census_data = c.acs5.get((\"NAME\", \"B01001_001E\",\"B06009_002E\", \"B06009_003E\", \"B06009_004E\",\n",
    "                          \"B06009_005E\",\"B06009_006E\"), {'for': 'place:*'})\n",
    "education_census_df = pd.DataFrame(education_census_data)\n",
    "education_census_df[['City', 'State']]=education_census_df.NAME.str.split(\",\",expand=True,)\n",
    "education_clean_census_df = education_census_df[['State', 'City','B01001_001E','B06009_002E','B06009_003E','B06009_004E','B06009_005E',\n",
    "                                   'B06009_006E']]\n",
    "education_clean_census_df=education_clean_census_df.rename(columns={\"B01001_001E\":\"Population\",\"B06009_002E\":\"None\", \"B06009_003E\":\"High School\", \n",
    "                                               \"B06009_004E\":\"Associates\",\"B06009_005E\":\"Bachelors\",\n",
    "                                               \"B06009_006E\":\"Graduate\"})\n",
    "education_clean_census_df=education_clean_census_df.sort_values(\"State\")\n",
    "education_clean_census_df[\"City\"] = education_clean_census_df[\"City\"].map(lambda x: x.rstrip(\"CDPcityCountytownvillage\"))\n",
    "for i in range(len(education_clean_census_df[\"City\"])):\n",
    "    education_clean_census_df[\"City\"][i]= education_clean_census_df[\"City\"][i].strip()\n",
    "for i in range(len(education_clean_census_df[\"State\"])):\n",
    "    education_clean_census_df[\"State\"][i]= education_clean_census_df[\"State\"][i].strip() \n",
    "    \n",
    "education_clean_census_df.to_csv(\"../Analysis/education.csv\", index=False)"
   ]
  },
  {
   "cell_type": "code",
   "execution_count": 3,
   "metadata": {
    "scrolled": true
   },
   "outputs": [],
   "source": [
    "#Race\n",
    "race_census_data = c.acs5.get((\"NAME\", \"B01001_001E\",\"B01001B_001E\", \"B01001C_001E\", \"B01001D_001E\",\n",
    "                          \"B01001E_001E\",\"B01001I_001E\",\"B01001H_001E\",\"B01001F_001E\",\"B01001G_001E\"), \n",
    "                         {'for': 'place:*'})\n",
    "race_census_df = pd.DataFrame(race_census_data)\n",
    "race_census_df [['City', 'State']]=race_census_df.NAME.str.split(\",\",expand=True,)\n",
    "race_clean_census_df = race_census_df[['State', 'City',\"B01001_001E\",\"B01001B_001E\", \"B01001C_001E\", \"B01001D_001E\",\n",
    "                          \"B01001E_001E\",\"B01001I_001E\",\"B01001H_001E\",\"B01001F_001E\",\"B01001G_001E\"]]\n",
    "race_clean_census_df=race_clean_census_df.rename(columns={\"B01001_001E\":\"Population\",\"B01001B_001E\":\"Black\",\n",
    "                                                \"B01001C_001E\":\"American Indian/Alaskan Native\", \n",
    "                                                \"B01001D_001E\":\"Asian\",\"B01001E_001E\":\"Native Hawaiian / Pacific Islander\",\n",
    "                                                \"B01001I_001E\":\"Hispanic/Latino\",\"B01001H_001E\":\"White\",\n",
    "                                                \"B01001G_001E\":\"Two or More\",\"B01001F_001E\":\"Other\"})\n",
    "race_clean_census_df = race_clean_census_df.sort_values(\"State\")\n",
    "race_clean_census_df[\"City\"] = race_clean_census_df[\"City\"].map(lambda x: x.rstrip(\"CDPcityCountytownTown\"))\n",
    "for i in range(len(race_clean_census_df[\"City\"])):\n",
    "    race_clean_census_df[\"City\"][i]= race_clean_census_df[\"City\"][i].strip()\n",
    "for i in range(len(race_clean_census_df[\"State\"])):\n",
    "    race_clean_census_df[\"State\"][i]= race_clean_census_df[\"State\"][i].strip() \n",
    "race_clean_census_df.to_csv(\"../Analysis/race.csv\", index=False)"
   ]
  },
  {
   "cell_type": "code",
   "execution_count": 4,
   "metadata": {},
   "outputs": [],
   "source": [
    "#Income\n",
    "income_census_data = c.acs5.get((\"NAME\", \"B01001_001E\",\"B06011_001E\"),{'for': 'place:*'})\n",
    "income_census_df = pd.DataFrame(income_census_data)\n",
    "income_census_df [['City', 'State']]=income_census_df.NAME.str.split(\",\",expand=True,)\n",
    "income_clean_census_df = income_census_df[['State', 'City',\"B01001_001E\",\"B06011_001E\"]]\n",
    "income_clean_census_df=income_clean_census_df.rename(columns={\"B01001_001E\":\"Population\",\n",
    "                                                              \"B06011_001E\":\"Median Income\"})\n",
    "income_clean_census_df = income_clean_census_df.sort_values(\"State\")\n",
    "income_clean_census_df[\"City\"] = income_clean_census_df[\"City\"].map(lambda x: x.rstrip(\"CDPcityCountytownTown\"))\n",
    "for i in range(len(income_clean_census_df[\"City\"])):\n",
    "    income_clean_census_df[\"City\"][i]= income_clean_census_df[\"City\"][i].strip()\n",
    "for i in range(len(income_clean_census_df[\"State\"])):\n",
    "    income_clean_census_df[\"State\"][i]= income_clean_census_df[\"State\"][i].strip() \n",
    "income_clean_census_df.to_csv(\"../Analysis/income.csv\", index=False)"
   ]
  },
  {
   "cell_type": "code",
   "execution_count": 5,
   "metadata": {},
   "outputs": [],
   "source": [
    "#Marital_Status\n",
    "marital_status_census_data = c.acs5.get((\"NAME\", \"B01001_001E\",\"B06008_002E\", \"B06008_003E\", \"B06008_004E\",\n",
    "                                          \"B06008_005E\",\"B06008_006E\"), {'for': 'place:*'})\n",
    "marital_status_census_df = pd.DataFrame(marital_status_census_data)\n",
    "marital_status_census_df [['City', 'State']]=marital_status_census_df.NAME.str.split(\",\",expand=True,)\n",
    "marital_status_clean_census_df = marital_status_census_df[['State', 'City','B01001_001E','B06008_002E','B06008_003E',\n",
    "                                                           'B06008_004E','B06008_005E','B06008_006E']]\n",
    "marital_status_clean_census_df=marital_status_clean_census_df.rename(columns={\"B01001_001E\":\"Population\",\n",
    "                                                                              \"B06008_002E\":\"Never Married\", \n",
    "                                                                              \"B06008_003E\":\"Married\",\n",
    "                                                                              \"B06008_004E\":\"Divorced\",\n",
    "                                                                              \"B06008_005E\":\"Separated\",\n",
    "                                                                              \"B06008_006E\":\"Widowed\"})\n",
    "marital_status_clean_census_df = marital_status_clean_census_df.sort_values(\"State\")\n",
    "marital_status_clean_census_df[\"City\"] = marital_status_clean_census_df[\"City\"].map(lambda x: x.rstrip(\"CDPcityCountytownTown\"))\n",
    "for i in range(len(marital_status_clean_census_df[\"City\"])):\n",
    "    marital_status_clean_census_df[\"City\"][i]= marital_status_clean_census_df[\"City\"][i].strip() \n",
    "for i in range(len(marital_status_clean_census_df[\"State\"])):\n",
    "    marital_status_clean_census_df[\"State\"][i]= marital_status_clean_census_df[\"State\"][i].strip() \n",
    "marital_status_clean_census_df.to_csv(\"../Analysis/marital_status.csv\", index=False)"
   ]
  },
  {
   "cell_type": "code",
   "execution_count": 27,
   "metadata": {},
   "outputs": [],
   "source": [
    "#Unemployment Count\n",
    "unemployment_count_census_data = c.acs5.get((\"NAME\",\"B23025_001E\",\"B23025_007E\"),{'for': 'place:*'})\n",
    "unemployment_count_census_df = pd.DataFrame(unemployment_count_census_data)\n",
    "unemployment_count_census_df [['City', 'State']]=unemployment_count_census_df.NAME.str.split(\",\",expand=True,)\n",
    "unemployment_count_clean_census_df = unemployment_count_census_df[['State', 'City',\"B23025_001E\",\"B23025_007E\"]]\n",
    "unemployment_count_clean_census_df=unemployment_count_clean_census_df.rename(columns={\"B23025_001E\":\"Population\",\n",
    "                                                              \"B23025_007E\":\"Unemployment Count\"})\n",
    "unemployment_count_clean_census_df = unemployment_count_clean_census_df.sort_values(\"State\")\n",
    "unemployment_count_clean_census_df[\"City\"] = unemployment_count_clean_census_df[\"City\"].map(lambda x: x.rstrip(\"CDPcityCountytownTown\"))\n",
    "for i in range(len(unemployment_count_clean_census_df[\"City\"])):\n",
    "    unemployment_count_clean_census_df[\"City\"][i]= unemployment_count_clean_census_df[\"City\"][i].strip() \n",
    "for i in range(len(unemployment_count_clean_census_df[\"State\"])):\n",
    "    unemployment_count_clean_census_df[\"State\"][i]= unemployment_count_clean_census_df[\"State\"][i].strip() \n",
    "unemployment_count_clean_census_df.to_csv(\"../Analysis/unemployment.csv\", index=False)"
   ]
  },
  {
   "cell_type": "code",
   "execution_count": 8,
   "metadata": {},
   "outputs": [],
   "source": [
    "#School Enrollment\n",
    "school_enrollment_census_data = c.acs5.get((\"NAME\", \"B01001_001E\",\"B14001_003E\", \"B14001_004E\",\n",
    "                                          \"B14001_005E\",\"B14001_006E\",\"B14001_007E\"), {'for': 'place:*'})\n",
    "school_enrollment_census_df = pd.DataFrame(school_enrollment_census_data)\n",
    "school_enrollment_census_df [['City', 'State']]=school_enrollment_census_df.NAME.str.split(\",\",expand=True,)\n",
    "school_enrollment_clean_census_df = school_enrollment_census_df[['State', 'City','B01001_001E','B14001_003E',\n",
    "                                                           'B14001_004E','B14001_005E','B14001_006E',\"B14001_007E\"]]\n",
    "school_enrollment_clean_census_df=school_enrollment_clean_census_df.rename(columns={\"B01001_001E\":\"Population\",                                                                           \n",
    "                                                                              \"B14001_003E\":\"Nursery-Pre-School\",\n",
    "                                                                              \"B14001_004E\":\"Kindergarten\",\n",
    "                                                                              \"B14001_005E\":\"1st-4th\",\n",
    "                                                                              \"B14001_006E\":\"5th-8th\", \n",
    "                                                                              \"B14001_007E\":\"9th-12th\"})\n",
    "school_enrollment_clean_census_df = school_enrollment_clean_census_df.sort_values(\"State\")\n",
    "school_enrollment_clean_census_df[\"City\"] = school_enrollment_clean_census_df[\"City\"].map(lambda x: x.rstrip(\"CDPcityCountytownTown\"))\n",
    "for i in range(len(school_enrollment_clean_census_df[\"City\"])):\n",
    "    school_enrollment_clean_census_df[\"City\"][i]= school_enrollment_clean_census_df[\"City\"][i].strip() \n",
    "for i in range(len(school_enrollment_clean_census_df[\"State\"])):\n",
    "    school_enrollment_clean_census_df[\"State\"][i]= school_enrollment_clean_census_df[\"State\"][i].strip() \n",
    "school_enrollment_clean_census_df.to_csv(\"../Analysis/school_enrollment.csv\", index=False)"
   ]
  },
  {
   "cell_type": "code",
   "execution_count": null,
   "metadata": {},
   "outputs": [],
   "source": []
  }
 ],
 "metadata": {
  "kernelspec": {
   "display_name": "Python 3",
   "language": "python",
   "name": "python3"
  },
  "language_info": {
   "codemirror_mode": {
    "name": "ipython",
    "version": 3
   },
   "file_extension": ".py",
   "mimetype": "text/x-python",
   "name": "python",
   "nbconvert_exporter": "python",
   "pygments_lexer": "ipython3",
   "version": "3.7.6"
  }
 },
 "nbformat": 4,
 "nbformat_minor": 4
}
