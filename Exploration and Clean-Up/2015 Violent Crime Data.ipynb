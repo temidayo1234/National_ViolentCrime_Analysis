{
 "cells": [
  {
   "cell_type": "code",
   "execution_count": 1,
   "metadata": {},
   "outputs": [],
   "source": [
    "# Dependencies\n",
    "from matplotlib import pyplot as plt\n",
    "from scipy.stats import linregress\n",
    "import numpy as np\n",
    "from sklearn import datasets \n",
    "import pandas as pd\n",
    "import time\n",
    "import requests\n",
    "from census import Census\n",
    "#pd.set_option('display.max_rows', 30000)\n",
    "# Census API Key\n",
    "from config import census_key\n",
    "c = Census(census_key, year=2015)"
   ]
  },
  {
   "cell_type": "markdown",
   "metadata": {},
   "source": [
    "### Retrieve Crime Data from FBI Crime Database - UCR"
   ]
  },
  {
   "cell_type": "code",
   "execution_count": 2,
   "metadata": {},
   "outputs": [],
   "source": [
    "#Store file path for crime data in a variable\n",
    "crime_data = \"../Data/Offenses_Known_to_Law_Enforcement_by_State_by_City_2015.xls\"\n",
    "\n",
    "#Read data into dataframe\n",
    "crime_data_df=pd.read_excel(crime_data)\n",
    "\n",
    "#Extract the state into a list so all rows in \"state\" column can have a state value\n",
    "state = crime_data_df[\"State\"]\n",
    "states=[]\n",
    "for s in state:\n",
    "    if pd.isnull(s):\n",
    "        states.append(current_state)\n",
    "    else:\n",
    "        current_state = s\n",
    "        states.append(current_state)\n",
    "        \n",
    "#Add newly created list into the dataframe and remove the old column\n",
    "crime_data_df[\"NEW_STATE\"] = states\n",
    "clean_crime_data_df=crime_data_df[[\"NEW_STATE\", \"City\", \"Population\", \"Violent Crime\"]] \n",
    "clean_crime_data_df=clean_crime_data_df.rename(columns={\"NEW_STATE\":\"State\"})\n",
    "\n",
    "#Remove any trailing numbers at the end of state and city names\n",
    "clean_crime_data_df[\"State\"] = clean_crime_data_df[\"State\"].map(lambda x: x.rstrip(\"1234567890\"))\n",
    "clean_crime_data_df[\"City\"] = clean_crime_data_df[\"City\"].map(lambda x: x.rstrip(\"1234567890\"))\n",
    "\n",
    "#Calculate the rate of violent crime per capita\n",
    "clean_crime_data_df[\"Violent Crime Rate\"] = (clean_crime_data_df[\"Violent Crime\"]/clean_crime_data_df[\"Population\"])*100\n",
    "\n",
    "#Sort out the two cities in each state\n"
   ]
  }
 ],
 "metadata": {
  "kernelspec": {
   "display_name": "Python 3",
   "language": "python",
   "name": "python3"
  },
  "language_info": {
   "codemirror_mode": {
    "name": "ipython",
    "version": 3
   },
   "file_extension": ".py",
   "mimetype": "text/x-python",
   "name": "python",
   "nbconvert_exporter": "python",
   "pygments_lexer": "ipython3",
   "version": "3.7.6"
  }
 },
 "nbformat": 4,
 "nbformat_minor": 4
}
