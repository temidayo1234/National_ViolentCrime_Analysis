{
 "cells": [
  {
   "cell_type": "code",
   "execution_count": 2,
   "metadata": {},
   "outputs": [],
   "source": [
    "# Dependencies\n",
    "from matplotlib import pyplot as plt\n",
    "from scipy.stats import linregress\n",
    "import numpy as np\n",
    "from sklearn import datasets \n",
    "import pandas as pd\n",
    "import time\n",
    "import requests\n",
    "from census import Census\n",
    "#pd.set_option('display.max_rows', 30000)\n",
    "# Census API Key\n",
    "from config import census_key\n",
    "c = Census(census_key, year=2015)"
   ]
  },
  {
   "cell_type": "markdown",
   "metadata": {},
   "source": [
    "### Retrieve Crime Data from FBI Crime Database - UCR"
   ]
  },
  {
   "cell_type": "code",
   "execution_count": 18,
   "metadata": {},
   "outputs": [],
   "source": [
    "#Store file path for crime data in a variable\n",
    "crime_data = \"../Data/Offenses_Known_to_Law_Enforcement_by_State_by_City_2015.xls\"\n",
    "\n",
    "#Read data into dataframe\n",
    "crime_data_df=pd.read_excel(crime_data)\n",
    "\n",
    "#Extract the state into a list so all rows in \"state\" column can have a state value\n",
    "state = crime_data_df[\"State\"]\n",
    "states=[]\n",
    "for s in state:\n",
    "    if pd.isnull(s):\n",
    "        states.append(current_state)\n",
    "    else:\n",
    "        current_state = s\n",
    "        states.append(current_state)\n",
    "        \n",
    "#Add newly created list into the dataframe and remove the old column\n",
    "crime_data_df[\"NEW_STATE\"] = states\n",
    "clean_crime_data_df=crime_data_df[[\"NEW_STATE\", \"City\", \"Population\", \"Violent Crime\"]] \n",
    "clean_crime_data_df=clean_crime_data_df.rename(columns={\"NEW_STATE\":\"State\"})\n",
    "\n",
    "#Remove any trailing numbers at the end of state and city names\n",
    "clean_crime_data_df[\"State\"] = clean_crime_data_df[\"State\"].map(lambda x: x.rstrip(\"1234567890\"))\n",
    "clean_crime_data_df[\"City\"] = clean_crime_data_df[\"City\"].map(lambda x: x.rstrip(\"1234567890\"))\n",
    "\n",
    "#Calculate the rate of violent crime per capita and remove any city where the violent crime is 0\n",
    "clean_crime_data_df = clean_crime_data_df.loc[clean_crime_data_df[\"Violent Crime\"]>0]\n",
    "clean_crime_data_df[\"Violent Crime Rate\"] = (clean_crime_data_df[\"Violent Crime\"]/clean_crime_data_df[\"Population\"])*100\n",
    "\n",
    "clean_crime_data_df=clean_crime_data_df.sort_values(\"State\")\n",
    "clean_crime_data_df = clean_crime_data_df.loc[clean_crime_data_df[\"Violent Crime\"]>0]"
   ]
  },
  {
   "cell_type": "code",
   "execution_count": 11,
   "metadata": {},
   "outputs": [
    {
     "data": {
      "text/plain": [
       "51"
      ]
     },
     "execution_count": 11,
     "metadata": {},
     "output_type": "execute_result"
    }
   ],
   "source": [
    "crime_data_df.State.count()"
   ]
  },
  {
   "cell_type": "markdown",
   "metadata": {},
   "source": [
    "## Sort Out the Highest and Lowest Crime Rate for Each State"
   ]
  },
  {
   "cell_type": "code",
   "execution_count": 25,
   "metadata": {},
   "outputs": [],
   "source": [
    "#Sort out the highest crime rate for each state\n",
    "#variable to hold highest violent crime for each state\n",
    "violent_crime=[]\n",
    "\n",
    "#variable to track highest violent crime for each state\n",
    "violent_crime_track=0\n",
    "\n",
    "#variable to hold starting state for the loop\n",
    "current_state='ALABAMA'\n",
    "\n",
    "#variable to append city for highest crime rate\n",
    "city=[]\n",
    "\n",
    "#variable to append city for highest crime rate\n",
    "state=[]\n",
    "\n",
    "#Loop through each row in dataframe \n",
    "for index,row in clean_crime_data_df.iterrows():\n",
    "    if row['State'] == current_state:\n",
    "        if row[\"Violent Crime Rate\"]> violent_crime_track:\n",
    "            highest = row[\"Violent Crime Rate\"] \n",
    "            cur_city = row[\"City\"]\n",
    "            cur_state = row[\"State\"]\n",
    "            violent_crime_track = highest\n",
    "               \n",
    "    else:\n",
    "        violent_crime.append(highest)\n",
    "        highest = row[\"Violent Crime Rate\"]\n",
    "        violent_crime_track = highest\n",
    "        current_state=row['State']\n",
    "        city.append(cur_city)\n",
    "        state.append(cur_state)\n",
    "        cur_city = row[\"City\"]\n",
    "        cur_state = row[\"State\"]\n",
    "#append the data for the last state\n",
    "violent_crime.append(highest)\n",
    "city.append(cur_city)\n",
    "state.append(cur_state)\n",
    "\n",
    "#Place newly created lists into dictionary and convert to DataFrame\n",
    "highest_new_dict = {'State':state,'City':city,'Violent Crime Rate':violent_crime}\n",
    "highest_new_df = pd.DataFrame(highest_new_dict)\n",
    "highest_new_df.to_csv(\"../Analysis/highest_crime.csv\", index=False)"
   ]
  },
  {
   "cell_type": "code",
   "execution_count": 26,
   "metadata": {},
   "outputs": [],
   "source": [
    "#Sort out the lowest crime rate for each state\n",
    "#variable to hold lowest violent crime for each state\n",
    "violent_crime=[]\n",
    "\n",
    "#variable to track lowest violent crime for each state\n",
    "violent_crime_track=100\n",
    "\n",
    "#variable to hold starting state for the loop\n",
    "current_state='ALABAMA'\n",
    "\n",
    "#variable to append city for lowest crime rate\n",
    "city=[]\n",
    "\n",
    "#variable to append city for lowest crime rate\n",
    "state=[]\n",
    "\n",
    "#Loop through each row in dataframe \n",
    "for index,row in clean_crime_data_df.iterrows():\n",
    "    if row['State'] == current_state:\n",
    "        if row[\"Violent Crime Rate\"]< violent_crime_track:\n",
    "            lowest = row[\"Violent Crime Rate\"] \n",
    "            cur_city = row[\"City\"]\n",
    "            cur_state = row[\"State\"]\n",
    "            violent_crime_track = lowest\n",
    "               \n",
    "    else:\n",
    "        violent_crime.append(lowest)\n",
    "        lowest = row[\"Violent Crime Rate\"]\n",
    "        violent_crime_track = lowest\n",
    "        current_state=row['State']\n",
    "        city.append(cur_city)\n",
    "        state.append(cur_state)\n",
    "        cur_city = row[\"City\"]\n",
    "        cur_state = row[\"State\"]\n",
    "        \n",
    "#append the data for the last state\n",
    "violent_crime.append(lowest)\n",
    "city.append(cur_city)\n",
    "state.append(cur_state)\n",
    "\n",
    "#Place newly created lists into dictionary and convert to DataFrame\n",
    "lowest_new_dict = {'State':state,'City':city,'Violent Crime Rate':violent_crime}\n",
    "lowest_new_df = pd.DataFrame(lowest_new_dict)\n",
    "lowest_new_df.to_csv(\"../Analysis/lowest_crime.csv\", index=False)"
   ]
  },
  {
   "cell_type": "code",
   "execution_count": null,
   "metadata": {},
   "outputs": [],
   "source": []
  },
  {
   "cell_type": "code",
   "execution_count": null,
   "metadata": {},
   "outputs": [],
   "source": []
  }
 ],
 "metadata": {
  "kernelspec": {
   "display_name": "Python 3",
   "language": "python",
   "name": "python3"
  },
  "language_info": {
   "codemirror_mode": {
    "name": "ipython",
    "version": 3
   },
   "file_extension": ".py",
   "mimetype": "text/x-python",
   "name": "python",
   "nbconvert_exporter": "python",
   "pygments_lexer": "ipython3",
   "version": "3.7.6"
  }
 },
 "nbformat": 4,
 "nbformat_minor": 4
}
