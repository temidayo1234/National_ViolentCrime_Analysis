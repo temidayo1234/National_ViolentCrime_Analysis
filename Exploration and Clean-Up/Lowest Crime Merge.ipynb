{
 "cells": [
  {
   "cell_type": "code",
   "execution_count": 1,
   "metadata": {},
   "outputs": [],
   "source": [
    "# Dependencies\n",
    "import numpy as np \n",
    "import pandas as pd\n",
    "pd.set_option('display.max_rows', 30000)\n",
    "import warnings\n",
    "warnings.filterwarnings('ignore')"
   ]
  },
  {
   "cell_type": "markdown",
   "metadata": {},
   "source": [
    "## Lowest Crime Vs Education"
   ]
  },
  {
   "cell_type": "code",
   "execution_count": 2,
   "metadata": {},
   "outputs": [],
   "source": [
    "#lowest crime file\n",
    "lowest_crime = \"lowest_crime.csv\"\n",
    "lowest_crime_df = pd.read_csv(lowest_crime)\n",
    "lowest_crime_df['State'] = lowest_crime_df['State'].str.title()\n",
    "#lowest_crime_df[\"State\"] = lowest_crime_df['State'].replace(\"District Of Columbia\",\"District of Columbia\")\n",
    "lowest_crime_df[\"City\"] = lowest_crime_df['City'].replace(\"Santaquin/Genola\",\"Santaquin\")\n",
    "#education file\n",
    "education =\"education.csv\"\n",
    "education_df=pd.read_csv(education)\n",
    "education_df[\"City\"] = education_df['City'].replace(\"Wrangell city and borough\",\"Wrangell\")\n",
    "#merge the two files\n",
    "merge_df=pd.merge(left=lowest_crime_df, right=education_df, on=['State','City'], how='left')\n",
    "merge_df=merge_df.dropna().reset_index(drop=True)\n",
    "#create new columns for percentage calculation\n",
    "merge_df['% None']=''\n",
    "merge_df['% High School']=''\n",
    "merge_df['% Associates']=''\n",
    "merge_df['% Bachelors']=''\n",
    "merge_df['% Graduate']=''\n",
    "#create list to hold the percent calculation from for loop\n",
    "p_none=[]\n",
    "p_HS=[]\n",
    "p_AS=[]\n",
    "p_BA=[]\n",
    "p_GR=[]\n",
    "#Percentage of each category\n",
    "for index,row in merge_df.iterrows():\n",
    "    pNone = (row['None']/row['Total'])*100\n",
    "    p_none.append(round(pNone,2))\n",
    "    pHS = (row['High School']/row['Total'])*100\n",
    "    p_HS.append(round(pHS,2))\n",
    "    pAS = (row['Associates']/row['Total'])*100\n",
    "    p_AS.append(round(pAS,2))\n",
    "    pBA = (row['Bachelors']/row['Total'])*100\n",
    "    p_BA.append(round(pBA,2))\n",
    "    pGR = (row['Graduate']/row['Total'])*100\n",
    "    p_GR.append(round(pGR,2))\n",
    "#Insert percent into dataframe\n",
    "merge_df['% None']=p_none\n",
    "merge_df['% High School']=p_HS\n",
    "merge_df['% Associates']=p_AS\n",
    "merge_df['% Bachelors']=p_BA\n",
    "merge_df['% Graduate']=p_GR\n",
    "\n",
    "merge_df=merge_df.loc[:,['State','% None','% High School','% Associates','% Bachelors','% Graduate']]\n",
    "merge_df.to_csv(\"../Analysis/Low Crime/Data/educationcrime.csv\", index=False)\n"
   ]
  },
  {
   "cell_type": "markdown",
   "metadata": {},
   "source": [
    "## Lowest Crime Vs Race"
   ]
  },
  {
   "cell_type": "code",
   "execution_count": 3,
   "metadata": {},
   "outputs": [],
   "source": [
    "#race file\n",
    "race =\"race.csv\"\n",
    "race_df=pd.read_csv(race)\n",
    "race_df[\"City\"] = race_df['City'].replace(\"Wrangell city and borough\",\"Wrangell\")\n",
    "#merge the two files\n",
    "merge_df=pd.merge(left=lowest_crime_df, right=race_df, on=['State','City'], how='left')\n",
    "merge_df=merge_df.dropna().reset_index(drop=True)\n",
    "#create new columns for percentage calculation\n",
    "merge_df['% Black']=''\n",
    "merge_df['% American Indian/Alaskan Native']=''\n",
    "merge_df['% Asian']=''\n",
    "merge_df['% Native Hawaiian/Pacific Islander']=''\n",
    "merge_df['% White']=''\n",
    "merge_df['% Other']=''\n",
    "merge_df['% Two or More']=''\n",
    "merge_df['% Hispanic/Latino']=''\n",
    "#create list to hold the percent calculation from for loop\n",
    "p_other=[]\n",
    "p_HP=[]\n",
    "p_AA=[]\n",
    "p_W=[]\n",
    "p_PI=[]\n",
    "p_A=[]\n",
    "p_TM=[]\n",
    "p_AN=[]\n",
    "#Percentage of each category\n",
    "for index,row in merge_df.iterrows():\n",
    "    pOther = (row['Other']/row['Total'])*100\n",
    "    p_other.append(round(pOther,2))\n",
    "    pHP = (row['Hispanic/Latino']/row['Total'])*100\n",
    "    p_HP.append(round(pHP,2))\n",
    "    pAA = (row['Black']/row['Total'])*100\n",
    "    p_AA.append(round(pAA,2))\n",
    "    pW = (row['White']/row['Total'])*100\n",
    "    p_W.append(round(pW,2))\n",
    "    pPI = (row['Native Hawaiian / Pacific Islander']/row['Total'])*100\n",
    "    p_PI.append(round(pPI,2))\n",
    "    pA = (row['Asian']/row['Total'])*100\n",
    "    p_A.append(round(pA,2))\n",
    "    pTM = (row['Two or More']/row['Total'])*100\n",
    "    p_TM.append(round(pTM,2))\n",
    "    pAN = (row['American Indian/Alaskan Native']/row['Total'])*100\n",
    "    p_AN.append(round(pAN,2))\n",
    "#Insert percent into dataframe\n",
    "merge_df['% Black']=p_AA\n",
    "merge_df['% American Indian/Alaskan Native']=p_AN\n",
    "merge_df['% Asian']=p_A\n",
    "merge_df['% Native Hawaiian/Pacific Islander']=p_PI\n",
    "merge_df['% White']=p_W\n",
    "merge_df['% Other']=p_other\n",
    "merge_df['% Two or More']=p_TM\n",
    "merge_df['% Hispanic/Latino']=p_HP\n",
    "\n",
    "merge_df=merge_df.loc[:,['State','% Black','% Asian','% Native Hawaiian/Pacific Islander','% White',\n",
    "                         '% Hispanic/Latino','% American Indian/Alaskan Native','% Two or More','% Other']]\n",
    "merge_df.to_csv(\"../Analysis/Low Crime/Data/racecrime.csv\", index=False)"
   ]
  },
  {
   "cell_type": "markdown",
   "metadata": {},
   "source": [
    "## Lowest Crime Vs Marital Status"
   ]
  },
  {
   "cell_type": "code",
   "execution_count": 4,
   "metadata": {},
   "outputs": [],
   "source": [
    "#Marital Status\n",
    "marital_status =\"marital_status.csv\"\n",
    "ms_df=pd.read_csv(marital_status)\n",
    "ms_df[\"City\"] = ms_df['City'].replace(\"Wrangell city and borough\",\"Wrangell\")\n",
    "#merge the two files\n",
    "merge_df=pd.merge(left=lowest_crime_df, right=ms_df, on=['State','City'], how='left')\n",
    "merge_df=merge_df.dropna().reset_index(drop=True)\n",
    "#create new columns for percentage calculation\n",
    "merge_df['% Never Married']=''\n",
    "merge_df['% Married']=''\n",
    "merge_df['% Divorced']=''\n",
    "merge_df['% Separated']=''\n",
    "merge_df['% Widowed']=''\n",
    "#create list to hold the percent calculation from for loop\n",
    "p_NM=[]\n",
    "p_M=[]\n",
    "p_D=[]\n",
    "p_S=[]\n",
    "p_W=[]\n",
    "#Percentage of each category\n",
    "for index,row in merge_df.iterrows():\n",
    "    pNM = (row['Never Married']/row['Total'])*100\n",
    "    p_NM.append(round(pNM,2))\n",
    "    pM = (row['Married']/row['Total'])*100\n",
    "    p_M.append(round(pM,2))\n",
    "    pD = (row['Divorced']/row['Total'])*100\n",
    "    p_D.append(round(pD,2))\n",
    "    pS = (row['Separated']/row['Total'])*100\n",
    "    p_S.append(round(pS,2))\n",
    "    pW = (row['Widowed']/row['Total'])*100\n",
    "    p_W.append(round(pW,2))\n",
    "#Insert percent into dataframe\n",
    "merge_df['% Never Married']=p_NM\n",
    "merge_df['% Married']=p_M\n",
    "merge_df['% Divorced']=p_D\n",
    "merge_df['% Separated']=p_S\n",
    "merge_df['% Widowed']=p_W\n",
    "\n",
    "merge_df=merge_df.loc[:,['State','% Never Married','% Married','% Divorced','% Separated','% Widowed']]\n",
    "merge_df.to_csv(\"../Analysis/Low Crime/Data/maritalstatuscrime.csv\", index=False)"
   ]
  },
  {
   "cell_type": "markdown",
   "metadata": {},
   "source": [
    "## Lowest Crime Vs School Enrollment"
   ]
  },
  {
   "cell_type": "code",
   "execution_count": 5,
   "metadata": {},
   "outputs": [],
   "source": [
    "#School Enrollment\n",
    "school_enrollment=\"school_enrollment.csv\"\n",
    "se_df=pd.read_csv(school_enrollment)\n",
    "se_df[\"City\"] = se_df['City'].replace(\"Wrangell city and borough\",\"Wrangell\")\n",
    "#merge the two files\n",
    "merge_df=pd.merge(left=lowest_crime_df, right=se_df, on=['State','City'], how='left')\n",
    "merge_df=merge_df.dropna().reset_index(drop=True)\n",
    "#create new columns for percentage calculation\n",
    "merge_df['% Nursery-Pre-School']=''\n",
    "merge_df['% Kindergarten']=''\n",
    "merge_df['% 1st-4th']=''\n",
    "merge_df['% 5th-8th']=''\n",
    "merge_df['% 9th-12th']=''\n",
    "#create list to hold the percent calculation from for loop\n",
    "p_PS=[]\n",
    "p_K=[]\n",
    "p_4=[]\n",
    "p_8=[]\n",
    "p_12=[]\n",
    "#Percentage of each category\n",
    "for index,row in merge_df.iterrows():\n",
    "    pPS = (row['Nursery-Pre-School']/row['Total'])*100\n",
    "    p_PS.append(round(pPS,2))\n",
    "    pK = (row['Kindergarten']/row['Total'])*100\n",
    "    p_K.append(round(pK,2))\n",
    "    p4 = (row['1st-4th']/row['Total'])*100\n",
    "    p_4.append(round(p4,2))\n",
    "    p8 = (row['5th-8th']/row['Total'])*100\n",
    "    p_8.append(round(p8,2))\n",
    "    p12 = (row['9th-12th']/row['Total'])*100\n",
    "    p_12.append(round(p12,2))\n",
    "#Insert percent into dataframe\n",
    "merge_df['% Nursery-Pre-School']=p_PS\n",
    "merge_df['% Kindergarten']=p_K\n",
    "merge_df['% 1st-4th']=p_4\n",
    "merge_df['% 5th-8th']=p_8\n",
    "merge_df['% 9th-12th']=p_12\n",
    "\n",
    "merge_df=merge_df.loc[:,['State','% Nursery-Pre-School','% Kindergarten','% 1st-4th','% 5th-8th','% 9th-12th']]\n",
    "merge_df.to_csv(\"../Analysis/Low Crime/Data/schoolenrollmentcrime.csv\", index=False)"
   ]
  },
  {
   "cell_type": "markdown",
   "metadata": {},
   "source": [
    "## Lowest Crime Vs Income"
   ]
  },
  {
   "cell_type": "code",
   "execution_count": 8,
   "metadata": {},
   "outputs": [],
   "source": [
    "#Income\n",
    "income=\"income.csv\"\n",
    "income_df=pd.read_csv(income)\n",
    "income_df[\"City\"] = income_df['City'].replace(\"Wrangell city and borough\",\"Wrangell\")\n",
    "#merge the two files\n",
    "merge_df=pd.merge(left=lowest_crime_df, right=income_df, on=['State','City'], how='left')\n",
    "merge_df=merge_df.dropna().reset_index(drop=True)\n",
    "merge_df=merge_df.loc[:,['State', 'Median Income']]\n",
    "merge_df.to_csv(\"../Analysis/Low Crime/Data/incomecrime.csv\", index=False)"
   ]
  },
  {
   "cell_type": "markdown",
   "metadata": {},
   "source": [
    "## Lowest Crime Vs Unemployment"
   ]
  },
  {
   "cell_type": "code",
   "execution_count": 9,
   "metadata": {},
   "outputs": [],
   "source": [
    "#Unemployment Count\n",
    "unemployment=\"unemployment.csv\"\n",
    "ue_df=pd.read_csv(unemployment)\n",
    "ue_df[\"City\"] = ue_df['City'].replace(\"Wrangell city and borough\",\"Wrangell\")\n",
    "#merge the two files\n",
    "merge_df=pd.merge(left=lowest_crime_df, right=ue_df, on=['State','City'], how='left')\n",
    "merge_df=merge_df.dropna().reset_index(drop=True)\n",
    "\n",
    "#create new columns for percentage calculation\n",
    "merge_df['% Unemployment']=''\n",
    "#create list to hold the percent calculation from for loop\n",
    "p_UE=[]\n",
    "#Percentage of each category\n",
    "for index,row in merge_df.iterrows():\n",
    "    pUE = (row['Unemployment Count']/row['Population'])*100\n",
    "    p_UE.append(round(pUE,2))\n",
    "#Insert percent into dataframe\n",
    "merge_df['% Unemployment']=p_UE\n",
    "\n",
    "\n",
    "merge_df=merge_df.loc[:,['State','% Unemployment']]\n",
    "merge_df.to_csv(\"../Analysis/Low Crime/Data/unemploymentcrime.csv\", index=False)"
   ]
  },
  {
   "cell_type": "markdown",
   "metadata": {},
   "source": [
    "## Lowest Crime Vs Population"
   ]
  },
  {
   "cell_type": "code",
   "execution_count": 10,
   "metadata": {},
   "outputs": [],
   "source": [
    "#Population\n",
    "education =\"education.csv\"\n",
    "education_df=pd.read_csv(education)\n",
    "education_df[\"City\"] = education_df['City'].replace(\"Wrangell city and borough\",\"Wrangell\")\n",
    "#merge the two files\n",
    "merge_df=pd.merge(left=lowest_crime_df, right=education_df, on=['State','City'], how='left')\n",
    "merge_df=merge_df.dropna().reset_index(drop=True)\n",
    "merge_df=merge_df.loc[:,['State', 'Population']]\n",
    "merge_df.to_csv(\"../Analysis/Low Crime/Data/totalpopulation.csv\", index=False)"
   ]
  },
  {
   "cell_type": "code",
   "execution_count": null,
   "metadata": {},
   "outputs": [],
   "source": []
  }
 ],
 "metadata": {
  "kernelspec": {
   "display_name": "Python 3",
   "language": "python",
   "name": "python3"
  },
  "language_info": {
   "codemirror_mode": {
    "name": "ipython",
    "version": 3
   },
   "file_extension": ".py",
   "mimetype": "text/x-python",
   "name": "python",
   "nbconvert_exporter": "python",
   "pygments_lexer": "ipython3",
   "version": "3.7.6"
  }
 },
 "nbformat": 4,
 "nbformat_minor": 4
}
