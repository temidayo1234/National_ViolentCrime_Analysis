{
 "cells": [
  {
   "cell_type": "code",
   "execution_count": 4,
   "metadata": {},
   "outputs": [],
   "source": [
    "# Dependencies\n",
    "import numpy as np \n",
    "import pandas as pd\n",
    "pd.set_option('display.max_rows', 30000)\n",
    "import warnings\n",
    "warnings.filterwarnings('ignore')"
   ]
  },
  {
   "cell_type": "code",
   "execution_count": 25,
   "metadata": {},
   "outputs": [
    {
     "data": {
      "text/html": [
       "<div>\n",
       "<style scoped>\n",
       "    .dataframe tbody tr th:only-of-type {\n",
       "        vertical-align: middle;\n",
       "    }\n",
       "\n",
       "    .dataframe tbody tr th {\n",
       "        vertical-align: top;\n",
       "    }\n",
       "\n",
       "    .dataframe thead th {\n",
       "        text-align: right;\n",
       "    }\n",
       "</style>\n",
       "<table border=\"1\" class=\"dataframe\">\n",
       "  <thead>\n",
       "    <tr style=\"text-align: right;\">\n",
       "      <th></th>\n",
       "      <th>Mean</th>\n",
       "      <th>Median</th>\n",
       "      <th>Standard Deviation</th>\n",
       "      <th>Max</th>\n",
       "      <th>Min</th>\n",
       "    </tr>\n",
       "  </thead>\n",
       "  <tbody>\n",
       "    <tr>\n",
       "      <th>Median Income_Low Crime</th>\n",
       "      <td>32264.06</td>\n",
       "      <td>29703.0</td>\n",
       "      <td>11451.93</td>\n",
       "      <td>60007.0</td>\n",
       "      <td>17338.0</td>\n",
       "    </tr>\n",
       "    <tr>\n",
       "      <th>Median Income_High Crime</th>\n",
       "      <td>21892.53</td>\n",
       "      <td>19231.0</td>\n",
       "      <td>6588.56</td>\n",
       "      <td>35718.0</td>\n",
       "      <td>12750.0</td>\n",
       "    </tr>\n",
       "  </tbody>\n",
       "</table>\n",
       "</div>"
      ],
      "text/plain": [
       "                              Mean   Median  Standard Deviation      Max  \\\n",
       "Median Income_Low Crime   32264.06  29703.0            11451.93  60007.0   \n",
       "Median Income_High Crime  21892.53  19231.0             6588.56  35718.0   \n",
       "\n",
       "                              Min  \n",
       "Median Income_Low Crime   17338.0  \n",
       "Median Income_High Crime  12750.0  "
      ]
     },
     "execution_count": 25,
     "metadata": {},
     "output_type": "execute_result"
    }
   ],
   "source": [
    "incomelowcrime=\"../../Low Crime/Data/incomecrime.csv\"\n",
    "incomelowcrime=pd.read_csv(incomelowcrime)\n",
    "incomehighcrime=\"../Data/incomecrime.csv\"\n",
    "incomehighcrime=pd.read_csv(incomehighcrime)\n",
    "incomemerge=pd.merge(left=incomelowcrime,right=incomehighcrime,on='State',suffixes=('_Low Crime','_High Crime'))\n",
    "income_mean = round(incomemerge[[\"Median Income_Low Crime\",\"Median Income_High Crime\"]].mean(),2)\n",
    "income_median = round(incomemerge[[\"Median Income_Low Crime\",\"Median Income_High Crime\"]].median(),2)\n",
    "income_deviation = round(incomemerge[[\"Median Income_Low Crime\",\"Median Income_High Crime\"]].std(),2)\n",
    "income_max=round(incomemerge[[\"Median Income_Low Crime\",\"Median Income_High Crime\"]].max(),2)\n",
    "income_min=round(incomemerge[[\"Median Income_Low Crime\",\"Median Income_High Crime\"]].min(),2)\n",
    "income_summary_table = pd.DataFrame({\"Mean\":income_mean, \"Median\":income_median, \n",
    "                                     \"Standard Deviation\":income_deviation, \"Max\":income_max, \"Min\":income_min})\n",
    "income_summary_table"
   ]
  },
  {
   "cell_type": "code",
   "execution_count": 28,
   "metadata": {},
   "outputs": [
    {
     "data": {
      "text/html": [
       "<div>\n",
       "<style scoped>\n",
       "    .dataframe tbody tr th:only-of-type {\n",
       "        vertical-align: middle;\n",
       "    }\n",
       "\n",
       "    .dataframe tbody tr th {\n",
       "        vertical-align: top;\n",
       "    }\n",
       "\n",
       "    .dataframe thead th {\n",
       "        text-align: right;\n",
       "    }\n",
       "</style>\n",
       "<table border=\"1\" class=\"dataframe\">\n",
       "  <thead>\n",
       "    <tr style=\"text-align: right;\">\n",
       "      <th></th>\n",
       "      <th>Mean</th>\n",
       "      <th>Median</th>\n",
       "      <th>Standard Deviation</th>\n",
       "      <th>Max</th>\n",
       "      <th>Min</th>\n",
       "    </tr>\n",
       "  </thead>\n",
       "  <tbody>\n",
       "    <tr>\n",
       "      <th>% Unemployment_Low Crime</th>\n",
       "      <td>3.69</td>\n",
       "      <td>3.72</td>\n",
       "      <td>1.43</td>\n",
       "      <td>7.2</td>\n",
       "      <td>1.64</td>\n",
       "    </tr>\n",
       "    <tr>\n",
       "      <th>% Unemployment_High Crime</th>\n",
       "      <td>7.18</td>\n",
       "      <td>7.05</td>\n",
       "      <td>3.41</td>\n",
       "      <td>15.3</td>\n",
       "      <td>0.42</td>\n",
       "    </tr>\n",
       "  </tbody>\n",
       "</table>\n",
       "</div>"
      ],
      "text/plain": [
       "                           Mean  Median  Standard Deviation   Max   Min\n",
       "% Unemployment_Low Crime   3.69    3.72                1.43   7.2  1.64\n",
       "% Unemployment_High Crime  7.18    7.05                3.41  15.3  0.42"
      ]
     },
     "execution_count": 28,
     "metadata": {},
     "output_type": "execute_result"
    }
   ],
   "source": [
    "unemploymentlowcrime=\"../../Low Crime/Data/unemploymentcrime.csv\"\n",
    "unemploymentlowcrime=pd.read_csv(unemploymentlowcrime)\n",
    "unemploymenthighcrime=\"../Data/unemploymentcrime.csv\"\n",
    "unemploymenthighcrime=pd.read_csv(unemploymenthighcrime)\n",
    "unemploymentmerge=pd.merge(left=unemploymentlowcrime,right=unemploymenthighcrime,on='State',\n",
    "                           suffixes=('_Low Crime','_High Crime'))\n",
    "unemployment_mean = round(unemploymentmerge[[\"% Unemployment_Low Crime\",\"% Unemployment_High Crime\"]].mean(),2)\n",
    "unemployment_median = round(unemploymentmerge[[\"% Unemployment_Low Crime\",\"% Unemployment_High Crime\"]].median(),2)\n",
    "unemployment_deviation = round(unemploymentmerge[[\"% Unemployment_Low Crime\",\"% Unemployment_High Crime\"]].std(),2)\n",
    "unemployment_max=round(unemploymentmerge[[\"% Unemployment_Low Crime\",\"% Unemployment_High Crime\"]].max(),2)\n",
    "unemployment_min=round(unemploymentmerge[[\"% Unemployment_Low Crime\",\"% Unemployment_High Crime\"]].min(),2)\n",
    "unemployment_summary_table = pd.DataFrame({\"Mean\":unemployment_mean, \"Median\":unemployment_median, \n",
    "                                     \"Standard Deviation\":unemployment_deviation, \n",
    "                                     \"Max\":unemployment_max, \"Min\":unemployment_min})\n",
    "unemployment_summary_table"
   ]
  },
  {
   "cell_type": "code",
   "execution_count": 46,
   "metadata": {},
   "outputs": [
    {
     "data": {
      "text/html": [
       "<div>\n",
       "<style scoped>\n",
       "    .dataframe tbody tr th:only-of-type {\n",
       "        vertical-align: middle;\n",
       "    }\n",
       "\n",
       "    .dataframe tbody tr th {\n",
       "        vertical-align: top;\n",
       "    }\n",
       "\n",
       "    .dataframe thead th {\n",
       "        text-align: right;\n",
       "    }\n",
       "</style>\n",
       "<table border=\"1\" class=\"dataframe\">\n",
       "  <thead>\n",
       "    <tr style=\"text-align: right;\">\n",
       "      <th></th>\n",
       "      <th>Mean</th>\n",
       "      <th>Median</th>\n",
       "      <th>Standard Deviation</th>\n",
       "      <th>Max</th>\n",
       "      <th>Min</th>\n",
       "    </tr>\n",
       "  </thead>\n",
       "  <tbody>\n",
       "    <tr>\n",
       "      <th>Population_Low Crime</th>\n",
       "      <td>10690.65</td>\n",
       "      <td>5501.5</td>\n",
       "      <td>11802.15</td>\n",
       "      <td>57165.0</td>\n",
       "      <td>630.0</td>\n",
       "    </tr>\n",
       "    <tr>\n",
       "      <th>Population_High Crime</th>\n",
       "      <td>49831.20</td>\n",
       "      <td>7144.0</td>\n",
       "      <td>143891.96</td>\n",
       "      <td>622454.0</td>\n",
       "      <td>60.0</td>\n",
       "    </tr>\n",
       "  </tbody>\n",
       "</table>\n",
       "</div>"
      ],
      "text/plain": [
       "                           Mean  Median  Standard Deviation       Max    Min\n",
       "Population_Low Crime   10690.65  5501.5            11802.15   57165.0  630.0\n",
       "Population_High Crime  49831.20  7144.0           143891.96  622454.0   60.0"
      ]
     },
     "execution_count": 46,
     "metadata": {},
     "output_type": "execute_result"
    }
   ],
   "source": [
    "populationlowcrime=\"../../Low Crime/Data/totalpopulation.csv\"\n",
    "populationlowcrime=pd.read_csv(populationlowcrime)\n",
    "populationhighcrime=\"../Data/totalpopulation.csv\"\n",
    "populationhighcrime=pd.read_csv(populationhighcrime)\n",
    "populationmerge=pd.merge(left=populationlowcrime,right=populationhighcrime,on='State',\n",
    "                           suffixes=('_Low Crime','_High Crime'))\n",
    "population_mean = round(populationmerge[[\"Population_Low Crime\",\"Population_High Crime\"]].mean(),2)\n",
    "population_median = round(populationmerge[[\"Population_Low Crime\",\"Population_High Crime\"]].median(),2)\n",
    "population_deviation = round(populationmerge[[\"Population_Low Crime\",\"Population_High Crime\"]].std(),2)\n",
    "population_max=round(populationmerge[[\"Population_Low Crime\",\"Population_High Crime\"]].max(),2)\n",
    "population_min=round(populationmerge[[\"Population_Low Crime\",\"Population_High Crime\"]].min(),2)\n",
    "population_summary_table = pd.DataFrame({\"Mean\":population_mean, \"Median\":population_median, \n",
    "                                     \"Standard Deviation\":population_deviation, \n",
    "                                     \"Max\":population_max, \"Min\":population_min})\n",
    "population_summary_table"
   ]
  }
 ],
 "metadata": {
  "kernelspec": {
   "display_name": "Python 3",
   "language": "python",
   "name": "python3"
  },
  "language_info": {
   "codemirror_mode": {
    "name": "ipython",
    "version": 3
   },
   "file_extension": ".py",
   "mimetype": "text/x-python",
   "name": "python",
   "nbconvert_exporter": "python",
   "pygments_lexer": "ipython3",
   "version": "3.7.6"
  }
 },
 "nbformat": 4,
 "nbformat_minor": 4
}
